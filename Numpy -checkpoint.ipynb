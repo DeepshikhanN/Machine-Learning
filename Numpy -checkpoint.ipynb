{
 "cells": [
  {
   "cell_type": "code",
   "execution_count": 1,
   "id": "efdc9972",
   "metadata": {},
   "outputs": [],
   "source": [
    "import numpy as np\n"
   ]
  },
  {
   "cell_type": "code",
   "execution_count": 2,
   "id": "6e13bfe7",
   "metadata": {},
   "outputs": [
    {
     "data": {
      "text/plain": [
       "array([1, 2, 3])"
      ]
     },
     "execution_count": 2,
     "metadata": {},
     "output_type": "execute_result"
    }
   ],
   "source": [
    "arr=np.array([1,2,3])\n",
    "arr"
   ]
  },
  {
   "cell_type": "code",
   "execution_count": 3,
   "id": "b90f1a5c",
   "metadata": {},
   "outputs": [
    {
     "data": {
      "text/plain": [
       "([1, 2, 3], [4, 5, 6])"
      ]
     },
     "execution_count": 3,
     "metadata": {},
     "output_type": "execute_result"
    }
   ],
   "source": [
    "list_of_list=(([1,2,3]),[4,5,6])\n",
    "list_of_list"
   ]
  },
  {
   "cell_type": "code",
   "execution_count": 5,
   "id": "2099d5f7",
   "metadata": {},
   "outputs": [
    {
     "data": {
      "text/plain": [
       "array([ 0,  1,  2,  3,  4,  5,  6,  7,  8,  9, 10, 11, 12, 13, 14, 15, 16,\n",
       "       17, 18, 19, 20, 21, 22, 23, 24, 25, 26, 27, 28, 29, 30, 31, 32, 33,\n",
       "       34, 35, 36, 37, 38, 39, 40, 41, 42, 43, 44, 45, 46, 47, 48, 49, 50,\n",
       "       51, 52, 53, 54, 55, 56, 57, 58, 59, 60, 61, 62, 63, 64, 65, 66])"
      ]
     },
     "execution_count": 5,
     "metadata": {},
     "output_type": "execute_result"
    }
   ],
   "source": [
    "np.arange(67)"
   ]
  },
  {
   "cell_type": "code",
   "execution_count": 6,
   "id": "dccfff63",
   "metadata": {},
   "outputs": [
    {
     "data": {
      "text/plain": [
       "array([36, 37, 38, 39, 40, 41, 42, 43, 44, 45, 46, 47, 48, 49, 50, 51, 52,\n",
       "       53, 54, 55])"
      ]
     },
     "execution_count": 6,
     "metadata": {},
     "output_type": "execute_result"
    }
   ],
   "source": [
    "np.arange(36,56)"
   ]
  },
  {
   "cell_type": "code",
   "execution_count": 9,
   "id": "419653b4",
   "metadata": {},
   "outputs": [
    {
     "data": {
      "text/plain": [
       "array([[0., 0., 0., 0., 0., 0.],\n",
       "       [0., 0., 0., 0., 0., 0.]])"
      ]
     },
     "execution_count": 9,
     "metadata": {},
     "output_type": "execute_result"
    }
   ],
   "source": [
    "np.zeros((2,6))"
   ]
  },
  {
   "cell_type": "code",
   "execution_count": 10,
   "id": "b861ed7f",
   "metadata": {},
   "outputs": [
    {
     "data": {
      "text/plain": [
       "array([ 0.        ,  2.22222222,  4.44444444,  6.66666667,  8.88888889,\n",
       "       11.11111111, 13.33333333, 15.55555556, 17.77777778, 20.        ])"
      ]
     },
     "execution_count": 10,
     "metadata": {},
     "output_type": "execute_result"
    }
   ],
   "source": [
    "np.linspace(0,20,10)"
   ]
  },
  {
   "cell_type": "code",
   "execution_count": 11,
   "id": "54f1d9e0",
   "metadata": {},
   "outputs": [
    {
     "data": {
      "text/plain": [
       "array([[1., 0., 0., 0., 0.],\n",
       "       [0., 1., 0., 0., 0.],\n",
       "       [0., 0., 1., 0., 0.],\n",
       "       [0., 0., 0., 1., 0.],\n",
       "       [0., 0., 0., 0., 1.]])"
      ]
     },
     "execution_count": 11,
     "metadata": {},
     "output_type": "execute_result"
    }
   ],
   "source": [
    "np.eye(5)"
   ]
  },
  {
   "cell_type": "code",
   "execution_count": 12,
   "id": "71b50ebe",
   "metadata": {},
   "outputs": [
    {
     "data": {
      "text/plain": [
       "array([[1, 0, 0],\n",
       "       [0, 1, 0],\n",
       "       [0, 0, 1]])"
      ]
     },
     "execution_count": 12,
     "metadata": {},
     "output_type": "execute_result"
    }
   ],
   "source": [
    "np.eye(3, dtype=int)"
   ]
  },
  {
   "cell_type": "code",
   "execution_count": 13,
   "id": "b5c0ca50",
   "metadata": {},
   "outputs": [
    {
     "data": {
      "text/plain": [
       "array([0.48677546, 0.76378804, 0.14461329, 0.51936251, 0.75971154,\n",
       "       0.35941574, 0.28252321, 0.50783859, 0.79442525, 0.87191091,\n",
       "       0.90699814, 0.37654364, 0.66076471, 0.96976948, 0.40194452,\n",
       "       0.90313422, 0.69840022, 0.42094324, 0.13166716, 0.43188103,\n",
       "       0.54292246, 0.89892625, 0.29598483, 0.26496841, 0.48455665])"
      ]
     },
     "execution_count": 13,
     "metadata": {},
     "output_type": "execute_result"
    }
   ],
   "source": [
    "np.random.rand(25)"
   ]
  },
  {
   "cell_type": "code",
   "execution_count": 14,
   "id": "382db8e4",
   "metadata": {},
   "outputs": [
    {
     "data": {
      "text/plain": [
       "array([ 1.88927304,  0.03361043, -0.87318022, -0.58773888, -1.65008682,\n",
       "       -0.02154758, -0.72086424,  0.07522874, -1.00817775,  0.26266407,\n",
       "        0.02676498,  1.15538854,  0.53927103,  1.36058605,  0.12410213,\n",
       "       -0.63000179, -0.72092108,  0.33997562, -0.84768471,  0.21099503,\n",
       "        0.77454546,  0.24483036, -0.57825952, -0.54729395, -1.71577967])"
      ]
     },
     "execution_count": 14,
     "metadata": {},
     "output_type": "execute_result"
    }
   ],
   "source": [
    "np.random.randn(25)"
   ]
  },
  {
   "cell_type": "code",
   "execution_count": 16,
   "id": "cafc2f70",
   "metadata": {},
   "outputs": [
    {
     "data": {
      "text/plain": [
       "array([2, 1, 5, 8, 6, 9, 7, 9, 4, 5, 1, 5, 8, 7, 9])"
      ]
     },
     "execution_count": 16,
     "metadata": {},
     "output_type": "execute_result"
    }
   ],
   "source": [
    "np.random.randint(0,10,15)"
   ]
  },
  {
   "cell_type": "code",
   "execution_count": 18,
   "id": "621c23fe",
   "metadata": {},
   "outputs": [],
   "source": [
    "s_a=np.arange(3,10)"
   ]
  },
  {
   "cell_type": "code",
   "execution_count": 19,
   "id": "8b1b8c9a",
   "metadata": {},
   "outputs": [
    {
     "data": {
      "text/plain": [
       "array([3, 4, 5, 6, 7, 8, 9])"
      ]
     },
     "execution_count": 19,
     "metadata": {},
     "output_type": "execute_result"
    }
   ],
   "source": [
    "s_a"
   ]
  },
  {
   "cell_type": "code",
   "execution_count": 20,
   "id": "5cc3c861",
   "metadata": {},
   "outputs": [
    {
     "data": {
      "text/plain": [
       "3"
      ]
     },
     "execution_count": 20,
     "metadata": {},
     "output_type": "execute_result"
    }
   ],
   "source": [
    "s_a.min()"
   ]
  },
  {
   "cell_type": "code",
   "execution_count": 22,
   "id": "eecced0b",
   "metadata": {},
   "outputs": [
    {
     "data": {
      "text/plain": [
       "9"
      ]
     },
     "execution_count": 22,
     "metadata": {},
     "output_type": "execute_result"
    }
   ],
   "source": [
    "s_a.max()"
   ]
  },
  {
   "cell_type": "code",
   "execution_count": 23,
   "id": "5302b6a5",
   "metadata": {},
   "outputs": [
    {
     "data": {
      "text/plain": [
       "0"
      ]
     },
     "execution_count": 23,
     "metadata": {},
     "output_type": "execute_result"
    }
   ],
   "source": [
    "s_a.argmin()"
   ]
  },
  {
   "cell_type": "code",
   "execution_count": 24,
   "id": "f6e3fe42",
   "metadata": {},
   "outputs": [
    {
     "data": {
      "text/plain": [
       "6"
      ]
     },
     "execution_count": 24,
     "metadata": {},
     "output_type": "execute_result"
    }
   ],
   "source": [
    "s_a.argmax()"
   ]
  },
  {
   "cell_type": "code",
   "execution_count": 25,
   "id": "09908192",
   "metadata": {},
   "outputs": [],
   "source": [
    "a=np.eye(2)"
   ]
  },
  {
   "cell_type": "code",
   "execution_count": 26,
   "id": "dfb346ba",
   "metadata": {},
   "outputs": [
    {
     "data": {
      "text/plain": [
       "array([[1., 0.],\n",
       "       [0., 1.]])"
      ]
     },
     "execution_count": 26,
     "metadata": {},
     "output_type": "execute_result"
    }
   ],
   "source": [
    "a"
   ]
  },
  {
   "cell_type": "code",
   "execution_count": 27,
   "id": "9e818f48",
   "metadata": {},
   "outputs": [],
   "source": [
    "a=np.eye(2, dtype=int)"
   ]
  },
  {
   "cell_type": "code",
   "execution_count": 28,
   "id": "b24dd0cb",
   "metadata": {},
   "outputs": [
    {
     "data": {
      "text/plain": [
       "array([[1, 0],\n",
       "       [0, 1]])"
      ]
     },
     "execution_count": 28,
     "metadata": {},
     "output_type": "execute_result"
    }
   ],
   "source": [
    "a"
   ]
  },
  {
   "cell_type": "code",
   "execution_count": 29,
   "id": "0937f2ce",
   "metadata": {},
   "outputs": [
    {
     "data": {
      "text/plain": [
       "array([[1, 0],\n",
       "       [0, 1]])"
      ]
     },
     "execution_count": 29,
     "metadata": {},
     "output_type": "execute_result"
    }
   ],
   "source": [
    "a.T"
   ]
  },
  {
   "cell_type": "code",
   "execution_count": 30,
   "id": "0e2b8036",
   "metadata": {},
   "outputs": [
    {
     "data": {
      "text/plain": [
       "dtype('int32')"
      ]
     },
     "execution_count": 30,
     "metadata": {},
     "output_type": "execute_result"
    }
   ],
   "source": [
    "a.dtype"
   ]
  },
  {
   "cell_type": "code",
   "execution_count": 32,
   "id": "1950b052",
   "metadata": {},
   "outputs": [
    {
     "ename": "ValueError",
     "evalue": "cannot reshape array of size 7 into shape (2,3)",
     "output_type": "error",
     "traceback": [
      "\u001b[1;31m---------------------------------------------------------------------------\u001b[0m",
      "\u001b[1;31mValueError\u001b[0m                                Traceback (most recent call last)",
      "\u001b[1;32m~\\AppData\\Local\\Temp/ipykernel_5836/1546546502.py\u001b[0m in \u001b[0;36m<module>\u001b[1;34m\u001b[0m\n\u001b[1;32m----> 1\u001b[1;33m \u001b[0ms_a\u001b[0m\u001b[1;33m=\u001b[0m\u001b[0ms_a\u001b[0m\u001b[1;33m.\u001b[0m\u001b[0mreshape\u001b[0m\u001b[1;33m(\u001b[0m\u001b[1;36m2\u001b[0m\u001b[1;33m,\u001b[0m\u001b[1;36m3\u001b[0m\u001b[1;33m)\u001b[0m\u001b[1;33m\u001b[0m\u001b[1;33m\u001b[0m\u001b[0m\n\u001b[0m",
      "\u001b[1;31mValueError\u001b[0m: cannot reshape array of size 7 into shape (2,3)"
     ]
    }
   ],
   "source": [
    "s_a=s_a.reshape(2,3)"
   ]
  },
  {
   "cell_type": "code",
   "execution_count": 33,
   "id": "443e1cd5",
   "metadata": {},
   "outputs": [],
   "source": [
    "s_a[3]=100"
   ]
  },
  {
   "cell_type": "code",
   "execution_count": 34,
   "id": "2792ad21",
   "metadata": {},
   "outputs": [
    {
     "data": {
      "text/plain": [
       "array([  3,   4,   5, 100,   7,   8,   9])"
      ]
     },
     "execution_count": 34,
     "metadata": {},
     "output_type": "execute_result"
    }
   ],
   "source": [
    "s_a"
   ]
  },
  {
   "cell_type": "code",
   "execution_count": 35,
   "id": "057b7262",
   "metadata": {},
   "outputs": [
    {
     "data": {
      "text/plain": [
       "array([4])"
      ]
     },
     "execution_count": 35,
     "metadata": {},
     "output_type": "execute_result"
    }
   ],
   "source": [
    "s_a[1:2]"
   ]
  },
  {
   "cell_type": "code",
   "execution_count": 36,
   "id": "efa5d8e1",
   "metadata": {},
   "outputs": [],
   "source": [
    "s_a[:]=100"
   ]
  },
  {
   "cell_type": "code",
   "execution_count": 37,
   "id": "8ce6eef2",
   "metadata": {},
   "outputs": [
    {
     "data": {
      "text/plain": [
       "array([100, 100, 100, 100, 100, 100, 100])"
      ]
     },
     "execution_count": 37,
     "metadata": {},
     "output_type": "execute_result"
    }
   ],
   "source": [
    "s_a"
   ]
  },
  {
   "cell_type": "raw",
   "id": "4c3a6bcc",
   "metadata": {},
   "source": [
    "##Two Dimensional Array"
   ]
  },
  {
   "cell_type": "code",
   "execution_count": 47,
   "id": "d8279d8a",
   "metadata": {},
   "outputs": [],
   "source": [
    "s_q=np.array([[1,2,3,13],[4,5,6,15],[7,8,9,56]])"
   ]
  },
  {
   "cell_type": "code",
   "execution_count": 43,
   "id": "a88246f3",
   "metadata": {},
   "outputs": [
    {
     "data": {
      "text/plain": [
       "array([[ 1,  2,  3],\n",
       "       [ 4,  5,  6],\n",
       "       [ 7,  8,  9],\n",
       "       [10, 11, 12]])"
      ]
     },
     "execution_count": 43,
     "metadata": {},
     "output_type": "execute_result"
    }
   ],
   "source": [
    "s_q"
   ]
  },
  {
   "cell_type": "code",
   "execution_count": 48,
   "id": "aaf4e3be",
   "metadata": {},
   "outputs": [
    {
     "data": {
      "text/plain": [
       "56"
      ]
     },
     "execution_count": 48,
     "metadata": {},
     "output_type": "execute_result"
    }
   ],
   "source": [
    "s_q[2,3]"
   ]
  },
  {
   "cell_type": "code",
   "execution_count": 49,
   "id": "785887a4",
   "metadata": {},
   "outputs": [
    {
     "data": {
      "text/plain": [
       "array([[ 1,  2,  3, 13],\n",
       "       [ 4,  5,  6, 15]])"
      ]
     },
     "execution_count": 49,
     "metadata": {},
     "output_type": "execute_result"
    }
   ],
   "source": [
    "s_q[:2]"
   ]
  },
  {
   "cell_type": "code",
   "execution_count": 50,
   "id": "2c7573a2",
   "metadata": {},
   "outputs": [
    {
     "data": {
      "text/plain": [
       "5"
      ]
     },
     "execution_count": 50,
     "metadata": {},
     "output_type": "execute_result"
    }
   ],
   "source": [
    "s_q[1,1]"
   ]
  },
  {
   "cell_type": "code",
   "execution_count": 52,
   "id": "ca9e602a",
   "metadata": {},
   "outputs": [
    {
     "data": {
      "text/plain": [
       "array([], shape=(2, 0), dtype=int32)"
      ]
     },
     "execution_count": 52,
     "metadata": {},
     "output_type": "execute_result"
    }
   ],
   "source": [
    "s_q[1:3,2:2]"
   ]
  },
  {
   "cell_type": "code",
   "execution_count": 53,
   "id": "8f0c2590",
   "metadata": {},
   "outputs": [
    {
     "data": {
      "text/plain": [
       "array([[  2,   4,   6,  26],\n",
       "       [  8,  10,  12,  30],\n",
       "       [ 14,  16,  18, 112]])"
      ]
     },
     "execution_count": 53,
     "metadata": {},
     "output_type": "execute_result"
    }
   ],
   "source": [
    "s_q+s_q"
   ]
  },
  {
   "cell_type": "code",
   "execution_count": 55,
   "id": "2beee1e0",
   "metadata": {},
   "outputs": [
    {
     "data": {
      "text/plain": [
       "array([[2.71828183e+00, 7.38905610e+00, 2.00855369e+01, 4.42413392e+05],\n",
       "       [5.45981500e+01, 1.48413159e+02, 4.03428793e+02, 3.26901737e+06],\n",
       "       [1.09663316e+03, 2.98095799e+03, 8.10308393e+03, 2.09165950e+24]])"
      ]
     },
     "execution_count": 55,
     "metadata": {},
     "output_type": "execute_result"
    }
   ],
   "source": [
    "np.exp(s_q)"
   ]
  },
  {
   "cell_type": "code",
   "execution_count": 56,
   "id": "2e59b09d",
   "metadata": {},
   "outputs": [
    {
     "data": {
      "text/plain": [
       "array([[1.        , 1.41421356, 1.73205081, 3.60555128],\n",
       "       [2.        , 2.23606798, 2.44948974, 3.87298335],\n",
       "       [2.64575131, 2.82842712, 3.        , 7.48331477]])"
      ]
     },
     "execution_count": 56,
     "metadata": {},
     "output_type": "execute_result"
    }
   ],
   "source": [
    "np.sqrt(s_q)"
   ]
  },
  {
   "cell_type": "code",
   "execution_count": 57,
   "id": "fc8e3244",
   "metadata": {},
   "outputs": [
    {
     "data": {
      "text/plain": [
       "array([[0.        , 0.69314718, 1.09861229, 2.56494936],\n",
       "       [1.38629436, 1.60943791, 1.79175947, 2.7080502 ],\n",
       "       [1.94591015, 2.07944154, 2.19722458, 4.02535169]])"
      ]
     },
     "execution_count": 57,
     "metadata": {},
     "output_type": "execute_result"
    }
   ],
   "source": [
    "np.log(s_q)"
   ]
  },
  {
   "cell_type": "code",
   "execution_count": 58,
   "id": "b0b31dce",
   "metadata": {},
   "outputs": [
    {
     "data": {
      "text/plain": [
       "56"
      ]
     },
     "execution_count": 58,
     "metadata": {},
     "output_type": "execute_result"
    }
   ],
   "source": [
    "np.max(s_q)"
   ]
  },
  {
   "cell_type": "code",
   "execution_count": 59,
   "id": "8c44b938",
   "metadata": {},
   "outputs": [
    {
     "data": {
      "text/plain": [
       "1"
      ]
     },
     "execution_count": 59,
     "metadata": {},
     "output_type": "execute_result"
    }
   ],
   "source": [
    "np.min(s_q)"
   ]
  },
  {
   "cell_type": "code",
   "execution_count": 60,
   "id": "12ec3db4",
   "metadata": {},
   "outputs": [
    {
     "data": {
      "text/plain": [
       "11"
      ]
     },
     "execution_count": 60,
     "metadata": {},
     "output_type": "execute_result"
    }
   ],
   "source": [
    "np.argmax(s_q)"
   ]
  },
  {
   "cell_type": "code",
   "execution_count": 61,
   "id": "fab9c7be",
   "metadata": {},
   "outputs": [
    {
     "data": {
      "text/plain": [
       "0"
      ]
     },
     "execution_count": 61,
     "metadata": {},
     "output_type": "execute_result"
    }
   ],
   "source": [
    "np.argmin(s_q)"
   ]
  },
  {
   "cell_type": "code",
   "execution_count": 62,
   "id": "a2d9db69",
   "metadata": {},
   "outputs": [
    {
     "data": {
      "text/plain": [
       "array([[13,  3],\n",
       "       [15,  6],\n",
       "       [56,  9]])"
      ]
     },
     "execution_count": 62,
     "metadata": {},
     "output_type": "execute_result"
    }
   ],
   "source": [
    "s_q[:,(3,2)]"
   ]
  },
  {
   "cell_type": "code",
   "execution_count": 63,
   "id": "947b7c49",
   "metadata": {},
   "outputs": [
    {
     "data": {
      "text/plain": [
       "14.225124486860095"
      ]
     },
     "execution_count": 63,
     "metadata": {},
     "output_type": "execute_result"
    }
   ],
   "source": [
    "np.std(s_q)"
   ]
  },
  {
   "cell_type": "code",
   "execution_count": 64,
   "id": "4cad66bf",
   "metadata": {},
   "outputs": [
    {
     "data": {
      "text/plain": [
       "202.35416666666666"
      ]
     },
     "execution_count": 64,
     "metadata": {},
     "output_type": "execute_result"
    }
   ],
   "source": [
    "np.var(s_q)"
   ]
  },
  {
   "cell_type": "code",
   "execution_count": 65,
   "id": "7a9c1d3c",
   "metadata": {},
   "outputs": [
    {
     "data": {
      "text/plain": [
       "10.75"
      ]
     },
     "execution_count": 65,
     "metadata": {},
     "output_type": "execute_result"
    }
   ],
   "source": [
    "np.mean(s_q)"
   ]
  },
  {
   "cell_type": "code",
   "execution_count": 66,
   "id": "da9de280",
   "metadata": {},
   "outputs": [],
   "source": [
    "array=np.random.randn(3,4)"
   ]
  },
  {
   "cell_type": "code",
   "execution_count": 67,
   "id": "d35f2dc6",
   "metadata": {},
   "outputs": [
    {
     "data": {
      "text/plain": [
       "array([[ 0.086,  1.16 ,  0.222, -1.491],\n",
       "       [ 1.289,  0.254,  0.552,  0.495],\n",
       "       [ 0.497,  1.02 ,  1.444,  0.185]])"
      ]
     },
     "execution_count": 67,
     "metadata": {},
     "output_type": "execute_result"
    }
   ],
   "source": [
    "np.round(array, decimals=3)"
   ]
  },
  {
   "cell_type": "code",
   "execution_count": 69,
   "id": "7867907e",
   "metadata": {},
   "outputs": [],
   "source": [
    "sports=np.array(['a','b','c','d','a'])"
   ]
  },
  {
   "cell_type": "code",
   "execution_count": 70,
   "id": "5d0fa109",
   "metadata": {},
   "outputs": [
    {
     "data": {
      "text/plain": [
       "array(['a', 'b', 'c', 'd'], dtype='<U1')"
      ]
     },
     "execution_count": 70,
     "metadata": {},
     "output_type": "execute_result"
    }
   ],
   "source": [
    "np.unique(sports)"
   ]
  },
  {
   "cell_type": "code",
   "execution_count": null,
   "id": "55800809",
   "metadata": {},
   "outputs": [],
   "source": []
  }
 ],
 "metadata": {
  "kernelspec": {
   "display_name": "Python 3 (ipykernel)",
   "language": "python",
   "name": "python3"
  },
  "language_info": {
   "codemirror_mode": {
    "name": "ipython",
    "version": 3
   },
   "file_extension": ".py",
   "mimetype": "text/x-python",
   "name": "python",
   "nbconvert_exporter": "python",
   "pygments_lexer": "ipython3",
   "version": "3.9.7"
  }
 },
 "nbformat": 4,
 "nbformat_minor": 5
}
