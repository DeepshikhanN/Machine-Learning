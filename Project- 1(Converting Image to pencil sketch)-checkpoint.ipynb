{
 "cells": [
  {
   "cell_type": "code",
   "execution_count": null,
   "id": "66119a77",
   "metadata": {},
   "outputs": [],
   "source": [
    "pip install opencv-python"
   ]
  },
  {
   "cell_type": "code",
   "execution_count": null,
   "id": "8d5576ec",
   "metadata": {},
   "outputs": [],
   "source": [
    "import cv2 # reading image"
   ]
  },
  {
   "cell_type": "code",
   "execution_count": null,
   "id": "d5e3a665",
   "metadata": {
    "scrolled": true
   },
   "outputs": [],
   "source": [
    "img=cv2.imread('flower-zinnia-pink (3).jpg')"
   ]
  },
  {
   "cell_type": "code",
   "execution_count": null,
   "id": "53588dff",
   "metadata": {},
   "outputs": [],
   "source": [
    "gray_img=cv2.cvtColor(img,cv2.COLOR_BGR2GRAY)"
   ]
  },
  {
   "cell_type": "code",
   "execution_count": null,
   "id": "1fdcf01a",
   "metadata": {},
   "outputs": [],
   "source": [
    "inverted_img=255-gray_img"
   ]
  },
  {
   "cell_type": "code",
   "execution_count": null,
   "id": "7380d5aa",
   "metadata": {},
   "outputs": [],
   "source": [
    "blurred=cv2.GaussianBlur(inverted_img,(21,21),0)\n",
    "inverted_blurred=255-blurred\n",
    "pencil_sketch=cv2.divide(gray_img,inverted_blurred,scale=256.0)"
   ]
  },
  {
   "cell_type": "code",
   "execution_count": null,
   "id": "050dc563",
   "metadata": {},
   "outputs": [],
   "source": [
    "cv2.imshow('Original Img', img)\n",
    "cv2.imshow('Pencil Sketch of flower', pencil_sketch)\n",
    "cv2.waitKey(0)"
   ]
  },
  {
   "cell_type": "code",
   "execution_count": null,
   "id": "8f3d78b4",
   "metadata": {},
   "outputs": [],
   "source": []
  }
 ],
 "metadata": {
  "kernelspec": {
   "display_name": "Python 3 (ipykernel)",
   "language": "python",
   "name": "python3"
  },
  "language_info": {
   "codemirror_mode": {
    "name": "ipython",
    "version": 3
   },
   "file_extension": ".py",
   "mimetype": "text/x-python",
   "name": "python",
   "nbconvert_exporter": "python",
   "pygments_lexer": "ipython3",
   "version": "3.9.7"
  }
 },
 "nbformat": 4,
 "nbformat_minor": 5
}
