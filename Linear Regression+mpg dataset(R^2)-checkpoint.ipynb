{
 "cells": [
  {
   "cell_type": "code",
   "execution_count": 72,
   "id": "2de89efc",
   "metadata": {},
   "outputs": [],
   "source": [
    "import numpy as np\n",
    "import matplotlib.pyplot as plt\n",
    "import pandas as pd\n",
    "import seaborn as sns\n",
    "\n",
    "from sklearn.linear_model import LinearRegression"
   ]
  },
  {
   "cell_type": "code",
   "execution_count": 73,
   "id": "715d35c7",
   "metadata": {},
   "outputs": [
    {
     "data": {
      "text/html": [
       "<div>\n",
       "<style scoped>\n",
       "    .dataframe tbody tr th:only-of-type {\n",
       "        vertical-align: middle;\n",
       "    }\n",
       "\n",
       "    .dataframe tbody tr th {\n",
       "        vertical-align: top;\n",
       "    }\n",
       "\n",
       "    .dataframe thead th {\n",
       "        text-align: right;\n",
       "    }\n",
       "</style>\n",
       "<table border=\"1\" class=\"dataframe\">\n",
       "  <thead>\n",
       "    <tr style=\"text-align: right;\">\n",
       "      <th></th>\n",
       "      <th>Area</th>\n",
       "      <th>Price</th>\n",
       "    </tr>\n",
       "  </thead>\n",
       "  <tbody>\n",
       "    <tr>\n",
       "      <th>0</th>\n",
       "      <td>2500</td>\n",
       "      <td>600000</td>\n",
       "    </tr>\n",
       "    <tr>\n",
       "      <th>1</th>\n",
       "      <td>3000</td>\n",
       "      <td>700000</td>\n",
       "    </tr>\n",
       "    <tr>\n",
       "      <th>2</th>\n",
       "      <td>3500</td>\n",
       "      <td>800000</td>\n",
       "    </tr>\n",
       "    <tr>\n",
       "      <th>3</th>\n",
       "      <td>4000</td>\n",
       "      <td>880000</td>\n",
       "    </tr>\n",
       "    <tr>\n",
       "      <th>4</th>\n",
       "      <td>4500</td>\n",
       "      <td>960000</td>\n",
       "    </tr>\n",
       "  </tbody>\n",
       "</table>\n",
       "</div>"
      ],
      "text/plain": [
       "   Area   Price\n",
       "0  2500  600000\n",
       "1  3000  700000\n",
       "2  3500  800000\n",
       "3  4000  880000\n",
       "4  4500  960000"
      ]
     },
     "execution_count": 73,
     "metadata": {},
     "output_type": "execute_result"
    }
   ],
   "source": [
    "df=pd.DataFrame({'Area':[2500,3000,3500,4000,4500],'Price':[600000,700000,800000,880000,960000]})\n",
    "df"
   ]
  },
  {
   "cell_type": "code",
   "execution_count": 74,
   "id": "ff4a9ef6",
   "metadata": {
    "scrolled": true
   },
   "outputs": [],
   "source": [
    "X= df[['Area']]\n",
    "Y=df[['Price']]"
   ]
  },
  {
   "cell_type": "code",
   "execution_count": 75,
   "id": "1eece9a9",
   "metadata": {},
   "outputs": [
    {
     "data": {
      "text/plain": [
       "<matplotlib.collections.PathCollection at 0x1a3cd770250>"
      ]
     },
     "execution_count": 75,
     "metadata": {},
     "output_type": "execute_result"
    },
    {
     "data": {
      "image/png": "[encoded data removed]",
      "text/plain": [
       "<Figure size 432x288 with 1 Axes>"
      ]
     },
     "metadata": {
      "needs_background": "light"
     },
     "output_type": "display_data"
    }
   ],
   "source": [
    "plt.scatter(X,Y,marker='*',color='red')"
   ]
  },
  {
   "cell_type": "code",
   "execution_count": 76,
   "id": "eb9d1f75",
   "metadata": {},
   "outputs": [],
   "source": [
    "reg=LinearRegression()"
   ]
  },
  {
   "cell_type": "code",
   "execution_count": 77,
   "id": "9638a318",
   "metadata": {},
   "outputs": [
    {
     "data": {
      "text/plain": [
       "LinearRegression()"
      ]
     },
     "execution_count": 77,
     "metadata": {},
     "output_type": "execute_result"
    }
   ],
   "source": [
    "reg.fit(X,Y)"
   ]
  },
  {
   "cell_type": "code",
   "execution_count": 78,
   "id": "00e15fc3",
   "metadata": {},
   "outputs": [
    {
     "data": {
      "text/plain": [
       "array([[180.]])"
      ]
     },
     "execution_count": 78,
     "metadata": {},
     "output_type": "execute_result"
    }
   ],
   "source": [
    "reg.coef_"
   ]
  },
  {
   "cell_type": "code",
   "execution_count": 79,
   "id": "4fe41450",
   "metadata": {},
   "outputs": [
    {
     "data": {
      "text/plain": [
       "array([158000.])"
      ]
     },
     "execution_count": 79,
     "metadata": {},
     "output_type": "execute_result"
    }
   ],
   "source": [
    "reg.intercept_"
   ]
  },
  {
   "cell_type": "code",
   "execution_count": 80,
   "id": "81e7dcce",
   "metadata": {},
   "outputs": [
    {
     "data": {
      "text/plain": [
       "array([[752000.]])"
      ]
     },
     "execution_count": 80,
     "metadata": {},
     "output_type": "execute_result"
    }
   ],
   "source": [
    "reg.predict([[3300]])"
   ]
  },
  {
   "cell_type": "code",
   "execution_count": 81,
   "id": "4ac8b9ee",
   "metadata": {},
   "outputs": [
    {
     "data": {
      "text/plain": [
       "752000"
      ]
     },
     "execution_count": 81,
     "metadata": {},
     "output_type": "execute_result"
    }
   ],
   "source": [
    "180*3300+158000"
   ]
  },
  {
   "cell_type": "code",
   "execution_count": 82,
   "id": "de614940",
   "metadata": {},
   "outputs": [
    {
     "ename": "TypeError",
     "evalue": "predict() got an unexpected keyword argument 'color'",
     "output_type": "error",
     "traceback": [
      "\u001b[1;31m---------------------------------------------------------------------------\u001b[0m",
      "\u001b[1;31mTypeError\u001b[0m                                 Traceback (most recent call last)",
      "\u001b[1;32m~\\AppData\\Local\\Temp/ipykernel_12424/962322761.py\u001b[0m in \u001b[0;36m<module>\u001b[1;34m\u001b[0m\n\u001b[0;32m      2\u001b[0m \u001b[0mplt\u001b[0m\u001b[1;33m.\u001b[0m\u001b[0mylabel\u001b[0m\u001b[1;33m(\u001b[0m\u001b[1;34m'Price'\u001b[0m\u001b[1;33m,\u001b[0m\u001b[0mfontsize\u001b[0m\u001b[1;33m=\u001b[0m\u001b[1;36m20\u001b[0m\u001b[1;33m)\u001b[0m\u001b[1;33m\u001b[0m\u001b[1;33m\u001b[0m\u001b[0m\n\u001b[0;32m      3\u001b[0m \u001b[0mplt\u001b[0m\u001b[1;33m.\u001b[0m\u001b[0mscatter\u001b[0m\u001b[1;33m(\u001b[0m\u001b[0mdf\u001b[0m\u001b[1;33m.\u001b[0m\u001b[0mArea\u001b[0m\u001b[1;33m,\u001b[0m\u001b[0mdf\u001b[0m\u001b[1;33m.\u001b[0m\u001b[0mPrice\u001b[0m\u001b[1;33m,\u001b[0m\u001b[0mcolor\u001b[0m\u001b[1;33m=\u001b[0m\u001b[1;34m'green'\u001b[0m\u001b[1;33m,\u001b[0m\u001b[0mmarker\u001b[0m\u001b[1;33m=\u001b[0m\u001b[1;34m'*'\u001b[0m\u001b[1;33m)\u001b[0m\u001b[1;33m\u001b[0m\u001b[1;33m\u001b[0m\u001b[0m\n\u001b[1;32m----> 4\u001b[1;33m \u001b[0mplt\u001b[0m\u001b[1;33m.\u001b[0m\u001b[0mplot\u001b[0m\u001b[1;33m(\u001b[0m\u001b[0mdf\u001b[0m\u001b[1;33m.\u001b[0m\u001b[0mArea\u001b[0m\u001b[1;33m,\u001b[0m\u001b[0mreg\u001b[0m\u001b[1;33m.\u001b[0m\u001b[0mpredict\u001b[0m\u001b[1;33m(\u001b[0m\u001b[0mdf\u001b[0m\u001b[1;33m[\u001b[0m\u001b[1;33m[\u001b[0m\u001b[1;34m'Area'\u001b[0m\u001b[1;33m]\u001b[0m\u001b[1;33m]\u001b[0m\u001b[1;33m,\u001b[0m\u001b[0mcolor\u001b[0m\u001b[1;33m=\u001b[0m\u001b[1;34m'red'\u001b[0m\u001b[1;33m)\u001b[0m\u001b[1;33m)\u001b[0m\u001b[1;33m\u001b[0m\u001b[1;33m\u001b[0m\u001b[0m\n\u001b[0m",
      "\u001b[1;31mTypeError\u001b[0m: predict() got an unexpected keyword argument 'color'"
     ]
    },
    {
     "data": {
      "image/png": "[encoded data removed]",
      "text/plain": [
       "<Figure size 432x288 with 1 Axes>"
      ]
     },
     "metadata": {
      "needs_background": "light"
     },
     "output_type": "display_data"
    }
   ],
   "source": [
    "plt.xlabel('Area',fontsize=20)\n",
    "plt.ylabel('Price',fontsize=20)\n",
    "plt.scatter(df.Area,df.Price,color='green',marker='*')\n",
    "plt.plot(df.Area,reg.predict(df[['Area']],color='red'))"
   ]
  },
  {
   "cell_type": "code",
   "execution_count": null,
   "id": "5e191786",
   "metadata": {
    "scrolled": true
   },
   "outputs": [],
   "source": [
    "df_pred=pd.read_excel(\"Linear_Pred.xlsx\")  #this file needs too be created"
   ]
  },
  {
   "cell_type": "code",
   "execution_count": null,
   "id": "e5951d62",
   "metadata": {},
   "outputs": [],
   "source": [
    "pred=reg.predict(df_pred)"
   ]
  },
  {
   "cell_type": "code",
   "execution_count": null,
   "id": "b079656f",
   "metadata": {},
   "outputs": [],
   "source": [
    "df_pred['Price']=pred"
   ]
  },
  {
   "cell_type": "code",
   "execution_count": null,
   "id": "19260944",
   "metadata": {},
   "outputs": [],
   "source": [
    "df_pred.to_csv('Linear_Pred.xlsx',index=False)"
   ]
  },
  {
   "cell_type": "markdown",
   "id": "a35a2545",
   "metadata": {},
   "source": [
    "#Train and test"
   ]
  },
  {
   "cell_type": "code",
   "execution_count": null,
   "id": "c54f9052",
   "metadata": {},
   "outputs": [],
   "source": [
    "import numpy as np\n",
    "import matplotlib.pyplot as plt\n",
    "import pandas as pd\n",
    "import seaborn as sns\n",
    "from sklearn.model_selection import train_test_split\n",
    "from sklearn.linear_model import LinearRegression"
   ]
  },
  {
   "cell_type": "code",
   "execution_count": null,
   "id": "96ed0222",
   "metadata": {},
   "outputs": [],
   "source": [
    "df1=pd.read_csv('https://raw.githubusercontent.com/Premalatha-success/Supervised-Learning/main/auto-mpg.csv')"
   ]
  },
  {
   "cell_type": "code",
   "execution_count": null,
   "id": "6321837d",
   "metadata": {},
   "outputs": [],
   "source": [
    "df1"
   ]
  },
  {
   "cell_type": "code",
   "execution_count": null,
   "id": "039d5944",
   "metadata": {},
   "outputs": [],
   "source": [
    "df1.head()"
   ]
  },
  {
   "cell_type": "code",
   "execution_count": null,
   "id": "2f2a6b25",
   "metadata": {},
   "outputs": [],
   "source": [
    "df1.tail()"
   ]
  },
  {
   "cell_type": "code",
   "execution_count": null,
   "id": "96dfa243",
   "metadata": {},
   "outputs": [],
   "source": [
    "df1.describe()"
   ]
  },
  {
   "cell_type": "code",
   "execution_count": null,
   "id": "ba9060a8",
   "metadata": {},
   "outputs": [],
   "source": [
    "df1.sample()"
   ]
  },
  {
   "cell_type": "code",
   "execution_count": null,
   "id": "84a066cd",
   "metadata": {},
   "outputs": [],
   "source": [
    "sns.relplot(x='cylinders',y='origin',data=df1)"
   ]
  },
  {
   "cell_type": "code",
   "execution_count": null,
   "id": "51507582",
   "metadata": {},
   "outputs": [],
   "source": [
    "df1.columns"
   ]
  },
  {
   "cell_type": "code",
   "execution_count": null,
   "id": "bacc8569",
   "metadata": {},
   "outputs": [],
   "source": [
    "df1.info()"
   ]
  },
  {
   "cell_type": "code",
   "execution_count": null,
   "id": "4fccf226",
   "metadata": {},
   "outputs": [],
   "source": [
    "df1.shape"
   ]
  },
  {
   "cell_type": "code",
   "execution_count": null,
   "id": "79b957c7",
   "metadata": {},
   "outputs": [],
   "source": [
    "df1.isnull().sum()"
   ]
  },
  {
   "cell_type": "code",
   "execution_count": null,
   "id": "5ae619c4",
   "metadata": {},
   "outputs": [],
   "source": [
    "df1=df1.drop('car name',axis=1)#dropping car name"
   ]
  },
  {
   "cell_type": "code",
   "execution_count": null,
   "id": "7cf32107",
   "metadata": {},
   "outputs": [],
   "source": [
    "df1.head()"
   ]
  },
  {
   "cell_type": "code",
   "execution_count": null,
   "id": "094890dc",
   "metadata": {},
   "outputs": [],
   "source": [
    "df1['origin']=df1['origin'].replace({1:'america',2:'europe',3:'asia'})#replacing categorical values with var actual values\n",
    "df1.sample(10)"
   ]
  },
  {
   "cell_type": "code",
   "execution_count": null,
   "id": "e18930ed",
   "metadata": {},
   "outputs": [],
   "source": [
    "### one hot encoding\n",
    "df1=pd.get_dummies(df1,columns=['origin'])#one hot encoding\n",
    "df1.sample(10)"
   ]
  },
  {
   "cell_type": "code",
   "execution_count": null,
   "id": "84e962b7",
   "metadata": {},
   "outputs": [],
   "source": [
    "#isdigit()? on horsepower\n",
    "hpIsdigit=pd.DataFrame(df1.horsepower.str.isdigit())#if the string is made of digits store True else false\n",
    "#print isdigit = False\n",
    "df1[hpIsdigit['horsepower']==False] #display only where it is not string"
   ]
  },
  {
   "cell_type": "code",
   "execution_count": null,
   "id": "9d1042bd",
   "metadata": {},
   "outputs": [],
   "source": [
    "df1=df1.replace('?',np.nan)\n",
    "df1[hpIsdigit['horsepower']==False] #replacing missing values with NAN\n"
   ]
  },
  {
   "cell_type": "code",
   "execution_count": null,
   "id": "85ef7167",
   "metadata": {},
   "outputs": [],
   "source": [
    "df1.median()#instead of dropping the rows, replace the missing values with median"
   ]
  },
  {
   "cell_type": "code",
   "execution_count": null,
   "id": "2392f04e",
   "metadata": {},
   "outputs": [],
   "source": [
    "#replacing missing values with median values\n",
    "#note we dont need to specify the name of the columns\n",
    "#every column's missing values will be replaced with that column's median respectively\n",
    "medianFiller=lambda x: x.fillna(x.median())\n",
    "df1=df1.apply(medianFiller,axis=0)\n",
    "df1['horsepower']=df1['horsepower'].astype('float64') #converting obhect data type to float data type "
   ]
  },
  {
   "cell_type": "code",
   "execution_count": null,
   "id": "de1dbd96",
   "metadata": {
    "scrolled": true
   },
   "outputs": [],
   "source": [
    "df1.head()"
   ]
  },
  {
   "cell_type": "code",
   "execution_count": null,
   "id": "24db303d",
   "metadata": {},
   "outputs": [],
   "source": [
    "sns.pairplot(df1,diag_kind='kde')"
   ]
  },
  {
   "cell_type": "code",
   "execution_count": null,
   "id": "fa1d2452",
   "metadata": {},
   "outputs": [],
   "source": [
    "# let's built our linear model\n",
    "#independent variables\n",
    "X=df1.drop(['mpg'],axis=1)\n",
    "#the dependent variable\n",
    "y=df1[['mpg']]"
   ]
  },
  {
   "cell_type": "code",
   "execution_count": null,
   "id": "b88df631",
   "metadata": {},
   "outputs": [],
   "source": [
    "# Splitting the training and test data set in 70:30 ratio\n",
    "\n",
    "X_train, X_test,y_train,y_test=train_test_split(X,y,test_size=0.30,random_state=1)"
   ]
  },
  {
   "cell_type": "markdown",
   "id": "5372bfe2",
   "metadata": {},
   "source": [
    "####FIt linear model"
   ]
  },
  {
   "cell_type": "code",
   "execution_count": null,
   "id": "643fa435",
   "metadata": {},
   "outputs": [],
   "source": [
    "\n",
    "reg_model=LinearRegression()\n",
    "reg_model.fit(X_train,y_train)"
   ]
  },
  {
   "cell_type": "code",
   "execution_count": null,
   "id": "55f404a5",
   "metadata": {},
   "outputs": [],
   "source": [
    "reg_model.score(X_train,y_train)"
   ]
  },
  {
   "cell_type": "code",
   "execution_count": 84,
   "id": "17b18962",
   "metadata": {},
   "outputs": [
    {
     "data": {
      "text/plain": [
       "0.8433135132808829"
      ]
     },
     "execution_count": 84,
     "metadata": {},
     "output_type": "execute_result"
    }
   ],
   "source": [
    "# out of sample score (R^2)\n",
    "\n",
    "reg_model.score(X_test,y_test)"
   ]
  },
  {
   "cell_type": "code",
   "execution_count": 93,
   "id": "21907c7e",
   "metadata": {},
   "outputs": [
    {
     "name": "stdout",
     "output_type": "stream",
     "text": [
      "0.8995492105437926\n"
     ]
    }
   ],
   "source": [
    "from sklearn.preprocessing import PolynomialFeatures\n",
    "from sklearn import linear_model\n",
    "poly=PolynomialFeatures(degree=2,interaction_only=True)\n",
    "X_train2=poly.fit_transform(X_train)\n",
    "X_test2=poly.fit_transform(X_test)\n",
    "poly_clf=linear_model.LinearRegression()\n",
    "poly_clf.fit(X_train2,y_train)\n",
    "y_pred=poly_clf.predict(X_test2)\n",
    "\n",
    "#print(y_pred)\n",
    "\n",
    "print(poly_clf.score(X_train2,y_train))#in sample(training)R^2 will always improve with the number of variables"
   ]
  },
  {
   "cell_type": "code",
   "execution_count": 94,
   "id": "48a0d6e2",
   "metadata": {},
   "outputs": [
    {
     "name": "stdout",
     "output_type": "stream",
     "text": [
      "0.861349075272287\n"
     ]
    }
   ],
   "source": [
    "# out of sample (testing) R^2 is a measure of success and does improve\n",
    "\n",
    "print(poly_clf.score(X_test2,y_test))"
   ]
  },
  {
   "cell_type": "markdown",
   "id": "daa27e27",
   "metadata": {},
   "source": []
  }
 ],
 "metadata": {
  "kernelspec": {
   "display_name": "Python 3 (ipykernel)",
   "language": "python",
   "name": "python3"
  },
  "language_info": {
   "codemirror_mode": {
    "name": "ipython",
    "version": 3
   },
   "file_extension": ".py",
   "mimetype": "text/x-python",
   "name": "python",
   "nbconvert_exporter": "python",
   "pygments_lexer": "ipython3",
   "version": "3.9.7"
  }
 },
 "nbformat": 4,
 "nbformat_minor": 5
}
